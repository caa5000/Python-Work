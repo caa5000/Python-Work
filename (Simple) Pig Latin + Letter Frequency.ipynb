{
 "cells": [
  {
   "cell_type": "markdown",
   "metadata": {},
   "source": [
    "#Problem 1. Pig Latin.\n",
    "\n",
    "In \"Pig Latin\", English words are transformed according to the following rules:\n",
    "\n",
    "* If the word begins with one or more consonants, those consonants are moved to the end of the word, followed by \"ay\":\n",
    "\n",
    "  * pig -> igpay\n",
    "  * Latin -> Atinlay\n",
    "  * trash -> ashtray\n",
    "\n",
    "* If the word begins with a vowel, it is followed by \"yay\":\n",
    "\n",
    "  * apple -> appleyay\n",
    "  * out -> outyay.\n",
    "  \n",
    "Write Python code that takes a word and converts it to Pig Latin.  If the input consists of multiple words or contains punctuation, your code should print a suitable error message."
   ]
  },
  {
   "cell_type": "code",
   "execution_count": 1,
   "metadata": {
    "collapsed": false
   },
   "outputs": [
    {
     "name": "stdout",
     "output_type": "stream",
     "text": [
      "Enter the word you would like translated to Pig Latin:testing\n",
      "estingtay\n"
     ]
    }
   ],
   "source": [
    "#Write a Pig Latin translator. \n",
    "\n",
    "#If the word starts with a consonant, find out how many letters until you hit a vowel.\n",
    "#Take letters, move to end, add \"ay\" at the end. \n",
    "#Word must always start with a vowel!!!\n",
    "import re\n",
    "WordTranslate = input(\"Enter the word you would like translated to Pig Latin:\")\n",
    "#Find the location of the first vowel.\n",
    "#If current letter is consonant, keep running. If vowel, break. \n",
    "Vowels='a','e','i','o','u','A','E','I','O','U'\n",
    "WordLength=len(WordTranslate)\n",
    "firstLetterVowel=\"yay\"\n",
    "firstLetterCons=\"ay\"\n",
    "finalWord=[]\n",
    "\n",
    "#Determine if it starts with a vowel, first. This will help make an easy if/else statement.\n",
    "startVowel = WordTranslate.startswith(Vowels)\n",
    "\n",
    "#Make string into a list.\n",
    "wordList=list(WordTranslate)\n",
    "#print(wordList) \n",
    "\n",
    "if startVowel:  \n",
    "    finalWord=WordTranslate+firstLetterVowel\n",
    "    #print(\"Starts with a vowel!\")\n",
    "else:\n",
    "    #run iteration through each letter, if not vowel, remove and put at the end. break when you see a vowel.\n",
    "    for i in range(len(WordTranslate)):\n",
    "        if WordTranslate[i] in Vowels:\n",
    "            #finalWord should be: remaining string + removed letter + firstLetterCons\n",
    "            finalWord = WordTranslate[i:] + WordTranslate[:i] + firstLetterCons \n",
    "            break\n",
    "            \n",
    "print(finalWord)\n",
    "#first_vowel = re.search(\"[aeiou]\", WordTranslate, re.IGNORECASE)\n",
    "#print (first_vowel)\n"
   ]
  },
  {
   "cell_type": "markdown",
   "metadata": {},
   "source": [
    "#Problem 2(a).  Letter Frequencies.\n",
    "\n",
    "The files ```encryptedA.txt``` and ```encryptedB.txt``` contain two different encrypted messages on similar topics.  One message was originally in English and one was in Welsh.  \n",
    "\n",
    "Write Python code that reads a text file into memory and creates a dictionary object with a frequency count for each letter.  For example, for ```encryptedA.txt```, your output should begin ```{'a': 78, 'b': 31, ...} ```.  Do not distinguish between uppercase and lowercase letters, and ignore punctuation.\n",
    "\n",
    "Which letter has the highest frequency in each text file?"
   ]
  },
  {
   "cell_type": "code",
   "execution_count": 71,
   "metadata": {
    "collapsed": false
   },
   "outputs": [
    {
     "name": "stdout",
     "output_type": "stream",
     "text": [
      "Counter({' ': 191, 'r': 114, 'c': 88, 'g': 78, 'a': 78, 'w': 76, 'm': 76, 'x': 72, 'u': 70, 'q': 41, 'y': 40, 'j': 36, 'l': 32, 'b': 31, 'd': 28, 'v': 27, 'k': 22, 't': 19, 'f': 18, 'z': 16, '.': 11, \"'\": 10, ',': 10, 'i': 7, '\"': 6, '-': 1})\n",
      "Counter({' ': 201, 'v': 123, 'x': 97, 'y': 92, 'k': 85, 'n': 79, 's': 61, 'z': 61, 'g': 56, 'c': 54, 'h': 48, 'o': 48, 'w': 43, 't': 34, 'd': 30, 'e': 28, 'p': 23, 'j': 23, 'u': 19, 'q': 17, 'l': 14, 'a': 13, 'r': 13, '.': 12, ',': 11, 'i': 6, 'b': 5, 'm': 4, 'f': 2, ';': 1, '-': 1, \"'\": 1})\n",
      "The highest letter count in Encrypted A is r\n",
      "The highest letter count in Encrypted B is v\n"
     ]
    }
   ],
   "source": [
    "#Creates a dictionary with letter frequency counts. \n",
    "\n",
    "#Read text file into memory.\n",
    "from collections import Counter\n",
    "with open(\"encryptedA.txt\") as jab:\n",
    "    encryptedA = jab.read()\n",
    "with open(\"encryptedB.txt\") as jab:\n",
    "    encryptedB = jab.read()\n",
    "#type(encryptedA)\n",
    "#type(encryptedB)\n",
    "\n",
    "import string\n",
    "punct = string.punctuation\n",
    "#print(punct)\n",
    "encryptedA = encryptedA.replace(punct, \" \") #replacing any punctuation with a space. \n",
    "lettercountA = Counter(encryptedA)\n",
    "encryptedB = encryptedB.replace(punct, \" \")\n",
    "lettercountB = Counter(encryptedB)\n",
    "print(lettercountA)\n",
    "print(lettercountB)\n",
    "#print(punct) #confirm that no punctuation ended up in my list\n",
    "\n",
    "\n"
   ]
  },
  {
   "cell_type": "markdown",
   "metadata": {},
   "source": [
    "#Problem 2(b).  Formatting for R.\n",
    "\n",
    "Write your dictionaries with frequency counts to ```.csv``` files, with one column for the key and one column for the frequency counted."
   ]
  },
  {
   "cell_type": "code",
   "execution_count": 74,
   "metadata": {
    "collapsed": false
   },
   "outputs": [],
   "source": [
    "import csv\n",
    "\n",
    "# When we open the .csv file for writing, we specify that the newline character is the empty string.\n",
    "# This prevents us from creating empty lines when writing to the .csv file.\n",
    "\n",
    "with open(\"encryptedA.csv\", \"w\", newline=\"\") as encryptA:\n",
    "    \n",
    "    writer = csv.writer(encryptA)\n",
    "    # Our .csv file will have two columns, one for the dict keys and one for the dict values\n",
    "    writer.writerows(lettercountA.items())\n",
    "\n",
    "with open(\"encryptedB.csv\", \"w\", newline=\"\") as encryptB:\n",
    "    \n",
    "    writer = csv.writer(encryptB)\n",
    "    # Our .csv file will have two columns, one for the dict keys and one for the dict values\n",
    "    writer.writerows(lettercountB.items())"
   ]
  },
  {
   "cell_type": "code",
   "execution_count": null,
   "metadata": {
    "collapsed": true
   },
   "outputs": [],
   "source": []
  }
 ],
 "metadata": {
  "kernelspec": {
   "display_name": "Python 3",
   "language": "python",
   "name": "python3"
  },
  "language_info": {
   "codemirror_mode": {
    "name": "ipython",
    "version": 3
   },
   "file_extension": ".py",
   "mimetype": "text/x-python",
   "name": "python",
   "nbconvert_exporter": "python",
   "pygments_lexer": "ipython3",
   "version": "3.5.1"
  }
 },
 "nbformat": 4,
 "nbformat_minor": 0
}

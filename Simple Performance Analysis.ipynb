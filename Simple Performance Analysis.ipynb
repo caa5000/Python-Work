{
 "cells": [
  {
   "cell_type": "markdown",
   "metadata": {},
   "source": [
    "#Problem 1(a).  Unionized workers.\n",
    "\n",
    "These problems use the 1985 Current Population Survey data, ```cps.csv```, from last week.\n",
    "\n",
    "Create a pandas data frame to hold the CPS data.  Write a function that computes the average hourly wage of a unionized worker by using control flow to iterate through each row of the data frame."
   ]
  },
  {
   "cell_type": "code",
   "execution_count": 1,
   "metadata": {
    "collapsed": false
   },
   "outputs": [
    {
     "data": {
      "text/plain": [
       "['ind',\n",
       " 'wage',\n",
       " 'educ',\n",
       " 'race',\n",
       " 'sex',\n",
       " 'hispanic',\n",
       " 'south',\n",
       " 'married',\n",
       " 'exper',\n",
       " 'union',\n",
       " 'age',\n",
       " 'sector',\n",
       " 'Time']"
      ]
     },
     "execution_count": 1,
     "metadata": {},
     "output_type": "execute_result"
    }
   ],
   "source": [
    "#Christian Acosta homework week 10\n",
    "import pandas as pd\n",
    "import numpy as np\n",
    "from collections import Counter\n",
    "import timeit \n",
    "cps = pd.read_csv('cps.csv')\n",
    "list(cps.columns.values)"
   ]
  },
  {
   "cell_type": "code",
   "execution_count": null,
   "metadata": {
    "collapsed": false
   },
   "outputs": [],
   "source": []
  },
  {
   "cell_type": "code",
   "execution_count": 3,
   "metadata": {
    "collapsed": false
   },
   "outputs": [
    {
     "name": "stdout",
     "output_type": "stream",
     "text": [
      "10 loops, best of 3: 23 ms per loop\n"
     ]
    }
   ],
   "source": [
    "%%timeit\n",
    "#Write a function that computes the avg hourly wage of a union worker using control flow.\n",
    "\n",
    "\n",
    "def hourly_union_avg(cps):\n",
    "    #if column 'union' = 'Union', then add column 'wage' to a running total. \n",
    "    total = 0 #Running total of wages.\n",
    "    union_count = 0 #Count the number of union folks\n",
    "    for i in range(len(cps.union)):\n",
    "        if cps.union[i]=='Union':\n",
    "            total = total + cps.wage[i]\n",
    "            union_count = union_count+1\n",
    "    return total/union_count\n",
    "            \n",
    "    #Divide by number of 'union' in column union.\n",
    "    \n",
    "    #return the average\n",
    "\n",
    "Union_Average_Looped = hourly_union_avg(cps)\n",
    "Union_Average_Looped\n",
    "    "
   ]
  },
  {
   "cell_type": "code",
   "execution_count": null,
   "metadata": {
    "collapsed": true
   },
   "outputs": [],
   "source": []
  },
  {
   "cell_type": "markdown",
   "metadata": {},
   "source": [
    "#Problem 1(b).  More unionized workers.\n",
    "\n",
    "Write a function that takes a row of a data frame as input.  Your function should return 0 if a worker is not unionized, and the worker's hourly wage if the worker is unionized.  Apply this function to your data frame, then use the resulting series to compute the average hourly wage of a unionized worker."
   ]
  },
  {
   "cell_type": "code",
   "execution_count": 4,
   "metadata": {
    "collapsed": false
   },
   "outputs": [
    {
     "name": "stdout",
     "output_type": "stream",
     "text": [
      "10 loops, best of 3: 28.1 ms per loop\n"
     ]
    }
   ],
   "source": [
    "%%timeit\n",
    "#Takes row of data frame as input.\n",
    "#return 0 if worker not unionized, hourly wage if unionized\n",
    "\n",
    "def hourly_union_wage(row):\n",
    "    #Take in row. Computer hourly wage (2) IF a union worker. \n",
    "    #Either 'Union' (9) or 'Not'\n",
    "    #Assign values in union and wage to variables.\n",
    "    if row['union']=='Union':\n",
    "        return row['wage']\n",
    "    else:\n",
    "        return 0\n",
    "\n",
    "#use apply to send in data frame.  \n",
    "hourly_union_wages = cps.apply(hourly_union_wage, axis = 1)\n",
    "\n",
    "#Use series to compute average hourly wage of union worker. \n",
    "unioncount = cps.union.value_counts()['Union'] #Did some online research to find this is one of the fastest ways to count. \n",
    "UnionAvgNonLoop = sum(hourly_union_wages)/unioncount\n",
    "#UnionAvgNonLoop #Verified @ 10.80\n"
   ]
  },
  {
   "cell_type": "code",
   "execution_count": 5,
   "metadata": {
    "collapsed": true
   },
   "outputs": [],
   "source": [
    "#100 loops, best of 3: 6.33 ms per loop\n",
    "#Not very impressive. "
   ]
  },
  {
   "cell_type": "markdown",
   "metadata": {},
   "source": [
    "# Problem 1(c).  Selecting and analyzing unionized workers.\n",
    "\n",
    "Write code that selects the unionized workers, then computes the average hourly wage of the resulting subset."
   ]
  },
  {
   "cell_type": "code",
   "execution_count": 6,
   "metadata": {
    "collapsed": false
   },
   "outputs": [
    {
     "name": "stdout",
     "output_type": "stream",
     "text": [
      "100 loops, best of 3: 2.83 ms per loop\n"
     ]
    }
   ],
   "source": [
    "%%timeit\n",
    "#Select unionized worker. Compute average hourly wage of subset. \n",
    "#Create subset of unionized workers\n",
    "#Workers = pd.DataFrame({'wage':cps.wage, 'union':cps.union})\n",
    "#UnionSpots = cps.union[cps.union == 'Union'].index #Stack: http://stackoverflow.com/questions/29933483/subsetting-a-pandas-series\n",
    "#Union_Workers\n",
    "#Create a subset Union_Workers\n",
    "\n",
    "Union_Workers=cps[cps['union']=='Union'] #Pulled from Python book on subsetting.\n",
    "UnionAvgSubset = np.mean(Union_Workers.wage) #calculating numpy mean. \n",
    "UnionAvgSubset\n",
    "#Union_Workers.mean('wage')\n",
    "\n",
    "#Average the results of the wage column. "
   ]
  },
  {
   "cell_type": "code",
   "execution_count": 7,
   "metadata": {
    "collapsed": true
   },
   "outputs": [],
   "source": [
    "#1000 loops, best of 3: 652 µs per loop"
   ]
  },
  {
   "cell_type": "markdown",
   "metadata": {},
   "source": [
    "#Problem 1(d).  Timing.\n",
    "\n",
    "Use the ```%time``` or ```%timeit``` magic commands to compare your code from 1(a), 1(b), and 1(c).  Create a markdown cell which explains which summarizes the results of your comparison.  Can you explain what makes the fastest code fastest?"
   ]
  },
  {
   "cell_type": "code",
   "execution_count": 114,
   "metadata": {
    "collapsed": false
   },
   "outputs": [],
   "source": [
    "#Method 1 - for loop w/ function: 100 loops, best of 3: 5.5 ms per loop\n",
    "#Method 2 - apply function: 100 loops, best of 3: 6.33 ms per loop\n",
    "#Method 3 - subsetting and specifically looking at 1000 loops, best of 3: 652 µs per loop\n",
    "\n",
    "#Method 3 by far the best at 652 microseconds per loop. If I did my math correctly that's over 1,500 times a second. \n",
    "#Method 3 pulls a subset of the data out which means it just has less data to look through altogether. It's taking the results of\n",
    "#everything in list besides having to search through everything. "
   ]
  },
  {
   "cell_type": "code",
   "execution_count": null,
   "metadata": {
    "collapsed": true
   },
   "outputs": [],
   "source": []
  }
 ],
 "metadata": {
  "kernelspec": {
   "display_name": "Python 3",
   "language": "python",
   "name": "python3"
  },
  "language_info": {
   "codemirror_mode": {
    "name": "ipython",
    "version": 3
   },
   "file_extension": ".py",
   "mimetype": "text/x-python",
   "name": "python",
   "nbconvert_exporter": "python",
   "pygments_lexer": "ipython3",
   "version": "3.5.1"
  }
 },
 "nbformat": 4,
 "nbformat_minor": 0
}
